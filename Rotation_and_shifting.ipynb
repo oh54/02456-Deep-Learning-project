{
 "cells": [
  {
   "cell_type": "code",
   "execution_count": 1,
   "metadata": {},
   "outputs": [
    {
     "name": "stderr",
     "output_type": "stream",
     "text": [
      "Using TensorFlow backend.\n"
     ]
    }
   ],
   "source": [
    "from keras_dec import DeepEmbeddingClustering\n",
    "import numpy as np\n",
    "import glob\n",
    "import skimage.transform\n",
    "from skimage.io import imread\n",
    "import tensorflow as tf\n",
    "from keras.datasets import mnist\n",
    "import matplotlib.pyplot as plt\n",
    "import scipy.misc\n",
    "import binascii\n",
    "import string\n",
    "import random"
   ]
  },
  {
   "cell_type": "code",
   "execution_count": null,
   "metadata": {},
   "outputs": [
    {
     "name": "stdout",
     "output_type": "stream",
     "text": [
      "Cut images\n",
      "Glove images\n",
      "Normal images\n"
     ]
    }
   ],
   "source": [
    "def id_generator(size=6, chars=string.ascii_uppercase + string.digits):\n",
    "    return ''.join(random.choice(chars) for _ in range(size))\n",
    "\n",
    "cut_img_paths = glob.glob(\"./Kotelet/Cut/*.png\")\n",
    "glove_img_paths = glob.glob(\"./Kotelet/Glove/*.png\")\n",
    "normal_img_paths = glob.glob(\"./Kotelet/Normal/*.png\")\n",
    "\n",
    "print(\"Cut images\")\n",
    "for i in range(0,500):\n",
    "    selected = np.random.choice(cut_img_paths,1)\n",
    "    random_angle = (np.random.rand(1,1)-0.5)*360\n",
    "    random_center = (np.random.rand(1,2)-0.5)*50 + (200,200)\n",
    "    rotated = skimage.transform.rotate(imread(selected[0]), angle=random_angle[0][0], resize=False,center=random_center[0])\n",
    "    name = id_generator(25)\n",
    "    scipy.misc.imsave('Kotelet_enhanced/Cut/' + name + '.png', rotated)\n",
    "    # print(\"Iter nr: \" + str(i))\n",
    "\n",
    "print(\"Glove images\")\n",
    "for i in range(0,500):\n",
    "    selected = np.random.choice(glove_img_paths,1)\n",
    "    random_angle = (np.random.rand(1,1)-0.5)*360\n",
    "    random_center = (np.random.rand(1,2)-0.5)*50 + (200,200)\n",
    "    rotated = skimage.transform.rotate(imread(selected[0]), angle=random_angle[0][0], resize=False,center=random_center[0])\n",
    "    name = id_generator(25)\n",
    "    scipy.misc.imsave('Kotelet_enhanced/Glove/' + name + '.png', rotated)\n",
    "    # print(\"Iter nr: \" + str(i))\n",
    "    \n",
    "print(\"Normal images\")\n",
    "for i in range(0,500):\n",
    "    selected = np.random.choice(normal_img_paths,1)\n",
    "    random_angle = (np.random.rand(1,1)-0.5)*360\n",
    "    random_center = (np.random.rand(1,2)-0.5)*50 + (200,200)\n",
    "    rotated = skimage.transform.rotate(imread(selected[0]), angle=random_angle[0][0], resize=False,center=random_center[0])\n",
    "    name = id_generator(25)\n",
    "    scipy.misc.imsave('Kotelet_enhanced/Normal/' + name + '.png', rotated)\n",
    "    # print(\"Iter nr: \" + str(i))\n",
    "print('Done!')"
   ]
  },
  {
   "cell_type": "code",
   "execution_count": null,
   "metadata": {
    "collapsed": true
   },
   "outputs": [],
   "source": []
  }
 ],
 "metadata": {
  "kernelspec": {
   "display_name": "Python 3",
   "language": "python",
   "name": "python3"
  },
  "language_info": {
   "codemirror_mode": {
    "name": "ipython",
    "version": 3
   },
   "file_extension": ".py",
   "mimetype": "text/x-python",
   "name": "python",
   "nbconvert_exporter": "python",
   "pygments_lexer": "ipython3",
   "version": "3.6.1"
  }
 },
 "nbformat": 4,
 "nbformat_minor": 2
}
